{
 "cells": [
  {
   "cell_type": "markdown",
   "metadata": {
    "slideshow": {
     "slide_type": "slide"
    }
   },
   "source": [
    "# Week 2: Lists, loops, and functions\n",
    "\n",
    "Charlotte Desvages"
   ]
  },
  {
   "cell_type": "markdown",
   "metadata": {
    "slideshow": {
     "slide_type": "slide"
    }
   },
   "source": [
    "# Lists\n",
    "\n",
    "Last week: `int`, `float`, `str`, `bool`."
   ]
  },
  {
   "cell_type": "markdown",
   "metadata": {
    "slideshow": {
     "slide_type": "fragment"
    }
   },
   "source": [
    "Python also has objects which can *contain* several other objects inside them -- they're called **containers**.\n",
    "\n",
    "This week: **lists**."
   ]
  },
  {
   "cell_type": "markdown",
   "metadata": {
    "slideshow": {
     "slide_type": "slide"
    }
   },
   "source": [
    "## Create a list"
   ]
  },
  {
   "cell_type": "code",
   "execution_count": null,
   "metadata": {},
   "outputs": [],
   "source": [
    "a = [1, 2, 3, 10, 6]"
   ]
  },
  {
   "cell_type": "markdown",
   "metadata": {},
   "source": [
    "![The list a in memory](graphics/lists.png)"
   ]
  },
  {
   "cell_type": "markdown",
   "metadata": {
    "slideshow": {
     "slide_type": "slide"
    }
   },
   "source": [
    "## What can we do with lists?"
   ]
  },
  {
   "cell_type": "markdown",
   "metadata": {},
   "source": [
    "Many things! List can contain almost any other object (even other lists):"
   ]
  },
  {
   "cell_type": "code",
   "execution_count": null,
   "metadata": {},
   "outputs": [],
   "source": [
    "a_very_diverse_list = ['my', 1, 4.5, ['you', 'they', True], 432, -2.3, 33, [False, 1]]"
   ]
  },
  {
   "cell_type": "markdown",
   "metadata": {
    "slideshow": {
     "slide_type": "fragment"
    }
   },
   "source": [
    "Some useful tools:"
   ]
  },
  {
   "cell_type": "code",
   "execution_count": null,
   "metadata": {},
   "outputs": [],
   "source": [
    "print(len(a_very_diverse_list))\n",
    "a_very_diverse_list.append('a new element!')\n",
    "print(a_very_diverse_list)"
   ]
  },
  {
   "cell_type": "markdown",
   "metadata": {
    "slideshow": {
     "slide_type": "slide"
    }
   },
   "source": [
    "### Getting specific elements of a list\n",
    "\n",
    "List elements are labelled by **index**, that is by their **position** in the list **starting from zero** (just like characters in a string).\n",
    "\n",
    "What are the first, third, and last elements of `a_very_diverse_list`?"
   ]
  },
  {
   "cell_type": "code",
   "execution_count": null,
   "metadata": {},
   "outputs": [],
   "source": [
    "print(a_very_diverse_list[8])\n",
    "print(len(a_very_diverse_list))\n",
    "\n",
    "print(a_very_diverse_list[-2])"
   ]
  },
  {
   "cell_type": "markdown",
   "metadata": {
    "slideshow": {
     "slide_type": "fragment"
    }
   },
   "source": [
    "How do I get the `'you'` object in the list?"
   ]
  },
  {
   "cell_type": "code",
   "execution_count": null,
   "metadata": {},
   "outputs": [],
   "source": [
    "print(a_very_diverse_list[3][2])"
   ]
  },
  {
   "cell_type": "markdown",
   "metadata": {
    "slideshow": {
     "slide_type": "slide"
    }
   },
   "source": [
    "### Index slicing\n",
    "\n",
    "If we want more than just one element, we can get a **slice** of the list.\n",
    "\n",
    "- `my_list[start:stop]` gets all elements from position `start` to `stop-1`.\n",
    "- `my_list[start:stop:step]` gets every `step`th element from position `start` to `stop-1`."
   ]
  },
  {
   "cell_type": "code",
   "execution_count": null,
   "metadata": {
    "slideshow": {
     "slide_type": "-"
    }
   },
   "outputs": [],
   "source": [
    "my_list = ['zero', 'one', 'two', 'three', 'four', 'five',\n",
    "           'six', 'seven', 'eight', 'nine', 'ten', 'eleven']\n",
    "\n",
    "print(my_list[0:12:3])"
   ]
  },
  {
   "cell_type": "markdown",
   "metadata": {
    "slideshow": {
     "slide_type": "slide"
    }
   },
   "source": [
    "# `for` loops\n",
    "\n",
    "Consider the list `my_list` from earlier. Let's say we want to capitalise each word in the list -- there's a function for that: [`str.capitalize()`](https://docs.python.org/3/library/stdtypes.html#str.capitalize)."
   ]
  },
  {
   "cell_type": "code",
   "execution_count": null,
   "metadata": {},
   "outputs": [],
   "source": [
    "my_list = ['zero', 'one', 'two', 'three', 'four', 'five',\n",
    "           'six', 'seven', 'eight', 'nine', 'ten', 'eleven']\n",
    "\n",
    "my_list_cap = []\n",
    "my_list_cap.append(my_list[0].capitalize())\n",
    "my_list_cap.append(my_list[1].capitalize())\n",
    "my_list_cap.append(my_list[2].capitalize())\n",
    "my_list_cap.append(my_list[3].capitalize())\n",
    "print(my_list_cap)"
   ]
  },
  {
   "cell_type": "markdown",
   "metadata": {
    "slideshow": {
     "slide_type": "slide"
    }
   },
   "source": [
    "A **loop** is used to repeat a set of commands, without having to type (or copy) the commands multiple times."
   ]
  },
  {
   "cell_type": "code",
   "execution_count": null,
   "metadata": {},
   "outputs": [],
   "source": [
    "my_list = ['zero', 'one', 'two', 'three', 'four', 'five',\n",
    "           'six', 'seven', 'eight', 'nine', 'ten', 'eleven']\n",
    "\n",
    "my_list_cap = []\n",
    "for number in my_list:\n",
    "    my_list_cap.append(number.capitalize())\n",
    "    \n",
    "print(my_list_cap)"
   ]
  },
  {
   "cell_type": "markdown",
   "metadata": {
    "slideshow": {
     "slide_type": "fragment"
    }
   },
   "source": [
    "**Note:** the way Python knows what commands are *inside* the loop and what commands are *outside* the loop is by **indentation**."
   ]
  },
  {
   "cell_type": "markdown",
   "metadata": {
    "slideshow": {
     "slide_type": "slide"
    }
   },
   "source": [
    "### What if I don't already have a list?\n",
    "\n",
    "Loops are useful for maths, for anything that is an *iterative* process.\n",
    "\n",
    "Example: compute and display the $n$th element of the Fibonacci sequence, starting with $x_0 = x_1 = 1$."
   ]
  },
  {
   "cell_type": "code",
   "execution_count": null,
   "metadata": {},
   "outputs": [],
   "source": [
    "x = [1, 1]\n",
    "n = 20\n",
    "\n",
    "for i in range(2, n+1):\n",
    "    x.append(x[i-2] + x[i-1])\n",
    "\n",
    "print(x[-1])"
   ]
  },
  {
   "cell_type": "markdown",
   "metadata": {
    "slideshow": {
     "slide_type": "slide"
    }
   },
   "source": [
    "## `while` loops\n",
    "\n",
    "`while` loops continue looping *as long as* a certain condition is `True`."
   ]
  },
  {
   "cell_type": "code",
   "execution_count": null,
   "metadata": {},
   "outputs": [],
   "source": [
    "def GCD(m, n):\n",
    "    '''\n",
    "    Returns the greatest common divisor of integers m and n.\n",
    "    '''\n",
    "    d = min(m, n)\n",
    "    while m % d != 0 or n % d != 0:\n",
    "        d = d - 1\n",
    "    return d\n",
    "\n",
    "print(GCD(1, 40))"
   ]
  },
  {
   "cell_type": "markdown",
   "metadata": {
    "slideshow": {
     "slide_type": "slide"
    }
   },
   "source": [
    "# Functions\n",
    "\n",
    "We've already used some of Python's *built-in* functions.\n",
    "\n",
    "We can also create our *own* functions to do specific tasks. Python functions work a bit like mathematical functions: you could see a function as a process which maps a given input to a specific output.\n",
    "\n",
    "For example, let's define a function which *returns* the square of a number:"
   ]
  },
  {
   "cell_type": "code",
   "execution_count": null,
   "metadata": {},
   "outputs": [],
   "source": [
    "def square_that_number(x):\n",
    "    return x**2"
   ]
  },
  {
   "cell_type": "markdown",
   "metadata": {
    "slideshow": {
     "slide_type": "fragment"
    }
   },
   "source": [
    "The function is now **defined**, but we haven't **used** it yet. To use it, we just *call* its name, and give it an input value:"
   ]
  },
  {
   "cell_type": "code",
   "execution_count": null,
   "metadata": {},
   "outputs": [],
   "source": [
    "y = square_that_number(7)\n",
    "print(y)"
   ]
  },
  {
   "cell_type": "markdown",
   "metadata": {
    "slideshow": {
     "slide_type": "slide"
    }
   },
   "source": [
    "### What happens in memory?\n",
    "\n",
    "Let's look at the example in the tutorial sheet. We want to define a Python function to calculate the value of $f(x)$ for a given $x$, where $f(x)$ is defined as\n",
    "$$\n",
    "f(x) = \\frac{3x - 2}{\\sqrt{2x + 1}}.\n",
    "$$"
   ]
  },
  {
   "cell_type": "code",
   "execution_count": null,
   "metadata": {
    "slideshow": {
     "slide_type": "slide"
    }
   },
   "outputs": [],
   "source": [
    "import math\n",
    "\n",
    "def f(x):\n",
    "    y = (3*x - 2) / math.sqrt(2*x + 1)\n",
    "    return y"
   ]
  },
  {
   "cell_type": "markdown",
   "metadata": {
    "slideshow": {
     "slide_type": "-"
    }
   },
   "source": [
    "<div style=\"width:60%;margin:auto;\">\n",
    "\n",
    "![Defining the function f](graphics/def.png)\n",
    "\n",
    "</div>"
   ]
  },
  {
   "cell_type": "markdown",
   "metadata": {
    "slideshow": {
     "slide_type": "slide"
    }
   },
   "source": [
    "Now we use the function:"
   ]
  },
  {
   "cell_type": "code",
   "execution_count": null,
   "metadata": {},
   "outputs": [],
   "source": [
    "a = 3\n",
    "b = -0.2\n",
    "c = math.pi\n",
    "\n",
    "jamie = f(c)\n",
    "print(jamie)"
   ]
  },
  {
   "cell_type": "markdown",
   "metadata": {},
   "source": [
    "|<code>a = 3<br/>b = -0.2<br/>c = math.pi<br/></code>  | `f_pi = f(c)` |\n",
    "|:-|:-:|\n",
    "| ![Assigning a, b, c](graphics/abc.png) | ![Assigning f(c) to f_pi](graphics/func_store.png) |"
   ]
  }
 ],
 "metadata": {
  "kernelspec": {
   "display_name": "Python 3",
   "language": "python",
   "name": "python3"
  },
  "language_info": {
   "codemirror_mode": {
    "name": "ipython",
    "version": 3
   },
   "file_extension": ".py",
   "mimetype": "text/x-python",
   "name": "python",
   "nbconvert_exporter": "python",
   "pygments_lexer": "ipython3",
   "version": "3.7.6"
  }
 },
 "nbformat": 4,
 "nbformat_minor": 4
}
